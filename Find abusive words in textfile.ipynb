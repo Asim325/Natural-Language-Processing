{
 "cells": [
  {
   "cell_type": "code",
   "execution_count": 4,
   "metadata": {},
   "outputs": [],
   "source": [
    "with open('origial_text.txt', 'r+') as text:\n",
    "        txt=text.read()"
   ]
  },
  {
   "cell_type": "code",
   "execution_count": 5,
   "metadata": {},
   "outputs": [
    {
     "data": {
      "text/plain": [
       "\"Pakistan is a Muslim country located in Southern Asia countries are India Iran Afghanistan in China it is officially called Islamic Republic of Pakistan in the south it is long coastline along the Arabian Sea. Pakistan is the largest country in the world on 34th number and its largest army in the world book .capital of Pakistan is Islamabad before 1960 it was Karachi which is now the country's largest city in the motto of the country is unity discipline and the national languages Urdu the name Pakistan mil Lena the pure information version and Urdu history of Pakistan in the struggle for Pakistan was started when Muslims of country and get organised by the Indian Government and all they are getting their proper diet Pakistan leader Sir Syed Ahmed Khan firstly used the w.after four years of Pakistan and is located in the North Western region of the country and Afghanistan . consider dogy and moron fucking people.Some peopLe are very selfish and bastard. No moral values . Pakistan border and city of Peshawar served as its Capital One it is the third largest Pakistan performance in terms of what is population and its economy it is your graphically the smallest the province is on to 17% of Pakistan total population with majority are within a button being pushed to an end in cone with in Pakistan ka border Punjab Rajasthan Islamabad capital territory and the Pakistan administrative and Minister territories of gilgit baltistan in a GK1 stronghold of the site includingI am waitingI am from Pakistan Pakistan beautiful country Pakistan you came into beingI am waitingI am from Pakistan\""
      ]
     },
     "execution_count": 5,
     "metadata": {},
     "output_type": "execute_result"
    }
   ],
   "source": [
    "txt"
   ]
  },
  {
   "cell_type": "code",
   "execution_count": 6,
   "metadata": {},
   "outputs": [
    {
     "name": "stdout",
     "output_type": "stream",
     "text": [
      "Pakistan is a Muslim country located in Southern Asia countries are India Iran Afghanistan in China it is officially called Islamic Republic of Pakistan in the south it is long coastline along the Arabian Sea. Pakistan is the largest country in the world on 34th number and its largest army in the world book .capital of Pakistan is Islamabad before 1960 it was Karachi which is now the country's largest city in the motto of the country is unity discipline and the national languages Urdu the name Pakistan mil Lena the pure information version and Urdu history of Pakistan in the struggle for Pakistan was started when Muslims of country and get organised by the Indian Government and all they are getting their proper diet Pakistan leader Sir Syed Ahmed Khan firstly used the w.after four years of Pakistan and is located in the North Western region of the country and Afghanistan . consider **** and **** **** people.Some peopLe are very **** and ****. No moral values . Pakistan border and city of Peshawar served as its Capital One it is the third largest Pakistan performance in terms of what is population and its economy it is your graphically the smallest the province is on to 17% of Pakistan total population with majority are within a button being pushed to an end in cone with in Pakistan ka border Punjab Rajasthan Islamabad capital territory and the Pakistan administrative and Minister territories of gilgit baltistan in a GK1 stronghold of the site includingI am waitingI am from Pakistan Pakistan beautiful country Pakistan you came into beingI am waitingI am from Pakistan\n"
     ]
    }
   ],
   "source": [
    "# Dictionary containing mapping of \n",
    "# values to be replaced and replacement values\n",
    "abusiveWords = {'moron' : '****',\n",
    "                 'fucking': '****',\n",
    "                 'selfish': '****',\n",
    "                'bastard':'****',\n",
    "                'piss off':'****',\n",
    "                'go to hell':'****',\n",
    "               'dogy':'****',}\n",
    "# Iterate over all key-value pairs in dict and \n",
    "# replace each key by the value in the string\n",
    "for word, replacement in abusiveWords.items():\n",
    "    txt = txt.replace(word, replacement)\n",
    "print(txt)"
   ]
  },
  {
   "cell_type": "code",
   "execution_count": 7,
   "metadata": {},
   "outputs": [],
   "source": [
    "#use regular expression\n",
    "import re"
   ]
  },
  {
   "cell_type": "code",
   "execution_count": 9,
   "metadata": {},
   "outputs": [
    {
     "name": "stdout",
     "output_type": "stream",
     "text": [
      "Pakistan is a Muslim country located in Southern Asia countries are India Iran Afghanistan in China it is officially called Islamic Republic of Pakistan in the south it is long coastline along the Arabian Sea. Pakistan is the largest country in the world on 34th number and its largest army in the world book .capital of Pakistan is Islamabad before 1960 it was Karachi which is now the country's largest city in the motto of the country is unity discipline and the national languages Urdu the name Pakistan mil Lena the pure information version and Urdu history of Pakistan in the struggle for Pakistan was started when Muslims of country and get organised by the Indian Government and all they are getting their proper diet Pakistan leader Sir Syed Ahmed Khan firstly used the w.after four years of Pakistan and is located in the North Western region of the country and Afghanistan . consider **** and **** **** people.Some peopLe are very **** and ****. No moral values . Pakistan border and city of Peshawar served as its Capital One it is the third largest Pakistan performance in terms of what is population and its economy it is your graphically the smallest the province is on to 17% of Pakistan total population with majority are within a button being pushed to an end in cone with in Pakistan ka border Punjab Rajasthan Islamabad capital territory and the Pakistan administrative and Minister territories of gilgit baltistan in a GK1 stronghold of the site includingI am waitingI am from Pakistan Pakistan beautiful country Pakistan you came into beingI am waitingI am from Pakistan\n"
     ]
    }
   ],
   "source": [
    "# Dictionary containing mapping of \n",
    "# values to be replaced and replacement values\n",
    "abusiveWords = {'moron' : '****',\n",
    "                 'fucking': '****',\n",
    "                 'selfish': '****',\n",
    "                'bastard':'****',\n",
    "                'piss off':'****',\n",
    "                'go to hell':'****',\n",
    "               'dogy':'****',}\n",
    "# Iterate over all key-value pairs in dict and \n",
    "# replace each key by the value in the string\n",
    "for word, replacement in abusiveWords.items():\n",
    "    textt = re.sub(word,replacement,txt)\n",
    "print(textt)"
   ]
  },
  {
   "cell_type": "code",
   "execution_count": null,
   "metadata": {},
   "outputs": [],
   "source": []
  }
 ],
 "metadata": {
  "kernelspec": {
   "display_name": "Python 3",
   "language": "python",
   "name": "python3"
  },
  "language_info": {
   "codemirror_mode": {
    "name": "ipython",
    "version": 3
   },
   "file_extension": ".py",
   "mimetype": "text/x-python",
   "name": "python",
   "nbconvert_exporter": "python",
   "pygments_lexer": "ipython3",
   "version": "3.8.3"
  }
 },
 "nbformat": 4,
 "nbformat_minor": 4
}
